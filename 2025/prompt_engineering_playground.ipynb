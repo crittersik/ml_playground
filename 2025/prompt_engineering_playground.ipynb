{
 "cells": [
  {
   "cell_type": "code",
   "execution_count": 1,
   "id": "3ad42907-0b17-47c1-82fb-052c1d63a655",
   "metadata": {},
   "outputs": [
    {
     "name": "stderr",
     "output_type": "stream",
     "text": [
      "/Users/ola/code/tf_ml_env/lib/python3.9/site-packages/urllib3/__init__.py:35: NotOpenSSLWarning: urllib3 v2 only supports OpenSSL 1.1.1+, currently the 'ssl' module is compiled with 'LibreSSL 2.8.3'. See: https://github.com/urllib3/urllib3/issues/3020\n",
      "  warnings.warn(\n",
      "/Users/ola/code/tf_ml_env/lib/python3.9/site-packages/tqdm/auto.py:21: TqdmWarning: IProgress not found. Please update jupyter and ipywidgets. See https://ipywidgets.readthedocs.io/en/stable/user_install.html\n",
      "  from .autonotebook import tqdm as notebook_tqdm\n"
     ]
    }
   ],
   "source": [
    "from transformers import AutoModelForCausalLM, AutoTokenizer\n",
    "import torch\n"
   ]
  },
  {
   "cell_type": "code",
   "execution_count": 24,
   "id": "c19abb04-99c9-4f97-9af3-0bb5a7cd1ec7",
   "metadata": {},
   "outputs": [],
   "source": [
    "model_name = \"gpt2\"\n",
    "model = AutoModelForCausalLM.from_pretrained(model_name)\n",
    "tokenizer = AutoTokenizer.from_pretrained(model_name)"
   ]
  },
  {
   "cell_type": "code",
   "execution_count": 30,
   "id": "8aeef71e-7e56-4be0-8bcd-db1737e85582",
   "metadata": {},
   "outputs": [],
   "source": [
    "def generate_output(prompt, max_length=100):\n",
    "    input_ids = tokenizer(prompt, return_tensors=\"pt\").input_ids\n",
    "    output_ids = model.generate(\n",
    "        input_ids, \n",
    "        max_length=max_length, \n",
    "        do_sample=True, \n",
    "        temperature=0.1\n",
    "    )\n",
    "    return tokenizer.decode(output_ids[0], skip_special_tokens=True)"
   ]
  },
  {
   "cell_type": "code",
   "execution_count": 31,
   "id": "595e0c00-f0fd-4941-bd4b-8e121cc51848",
   "metadata": {},
   "outputs": [
    {
     "data": {
      "text/plain": [
       "'What is the sentiment of this review?\\nReview: \"I absolutely loved this movie, it was fantastic!\"\\nSentiment:'"
      ]
     },
     "execution_count": 31,
     "metadata": {},
     "output_type": "execute_result"
    }
   ],
   "source": [
    "review_text = \"I absolutely loved this movie, it was fantastic!\"\n",
    "\n",
    "zero_shot_prompt = (\n",
    "    \"What is the sentiment of this review?\\n\"\n",
    "    \"Review: \\\"I absolutely loved this movie, it was fantastic!\\\"\\n\"\n",
    "    \"Sentiment:\"\n",
    ")\n",
    "zero_shot_prompt"
   ]
  },
  {
   "cell_type": "code",
   "execution_count": 32,
   "id": "79133324-042b-45b3-82d3-651456d57acc",
   "metadata": {},
   "outputs": [
    {
     "data": {
      "text/plain": [
       "'What is the sentiment of this review?\\n\\nExample:\\nReview: \"The movie was a complete disaster and a waste of time.\"\\nSentiment: Negative\\n\\nNow, determine the sentiment for the following review:\\nReview: \"I absolutely loved this movie, it was fantastic!\"\\nSentiment:'"
      ]
     },
     "execution_count": 32,
     "metadata": {},
     "output_type": "execute_result"
    }
   ],
   "source": [
    "# One-shot prompt: Provide one example of a review with its sentiment.\n",
    "one_shot_prompt = (\n",
    "    \"What is the sentiment of this review?\\n\\n\"\n",
    "    \"Example:\\n\"\n",
    "    \"Review: \\\"The movie was a complete disaster and a waste of time.\\\"\\n\"\n",
    "    \"Sentiment: Negative\\n\\n\"\n",
    "    \"Now, determine the sentiment for the following review:\\n\"\n",
    "    \"Review: \\\"I absolutely loved this movie, it was fantastic!\\\"\\n\"\n",
    "    \"Sentiment:\"\n",
    ")\n",
    "one_shot_prompt"
   ]
  },
  {
   "cell_type": "code",
   "execution_count": 33,
   "id": "79dc10f4-96d3-4e83-aea7-b9178d239931",
   "metadata": {},
   "outputs": [],
   "source": [
    "few_shot_prompt = (\n",
    "    \"What is the sentiment of this review?\\n\\n\"\n",
    "    \"Example 1:\\n\"\n",
    "    \"Review: \\\"The movie was brilliant and truly inspiring.\\\"\\n\"\n",
    "    \"Sentiment: Positive\\n\\n\"\n",
    "    \"Example 2:\\n\"\n",
    "    \"Review: \\\"I didn't enjoy the film at all; it was too slow and dull.\\\"\\n\"\n",
    "    \"Sentiment: Negative\\n\\n\"\n",
    "    \"Now, determine the sentiment for the following review:\\n\"\n",
    "    \"Review: \\\"I absolutely loved this movie, it was fantastic!\\\"\\n\"\n",
    "    \"Sentiment:\"\n",
    ")"
   ]
  },
  {
   "cell_type": "code",
   "execution_count": 34,
   "id": "bea72561-7c89-406a-bed7-274e233b5e75",
   "metadata": {},
   "outputs": [
    {
     "name": "stderr",
     "output_type": "stream",
     "text": [
      "The attention mask and the pad token id were not set. As a consequence, you may observe unexpected behavior. Please pass your input's `attention_mask` to obtain reliable results.\n",
      "Setting `pad_token_id` to `eos_token_id`:50256 for open-end generation.\n",
      "The attention mask and the pad token id were not set. As a consequence, you may observe unexpected behavior. Please pass your input's `attention_mask` to obtain reliable results.\n",
      "Setting `pad_token_id` to `eos_token_id`:50256 for open-end generation.\n",
      "The attention mask and the pad token id were not set. As a consequence, you may observe unexpected behavior. Please pass your input's `attention_mask` to obtain reliable results.\n",
      "Setting `pad_token_id` to `eos_token_id`:50256 for open-end generation.\n"
     ]
    },
    {
     "name": "stdout",
     "output_type": "stream",
     "text": [
      "=== Zero-Shot Output ===\n",
      "What is the sentiment of this review?\n",
      "Review: \"I absolutely loved this movie, it was fantastic!\"\n",
      "Sentiment: \"I'm a huge fan of the original and I'm very happy with the new one. I'm not sure if I'll ever get to see it again, but I'm very happy with the new one. I'm not sure if I'll ever get to see it again, but I'm very happy with the new one. I'm not sure if I'll\n",
      "\n",
      "=== One-Shot Output ===\n",
      "What is the sentiment of this review?\n",
      "\n",
      "Example:\n",
      "Review: \"The movie was a complete disaster and a waste of time.\"\n",
      "Sentiment: Negative\n",
      "\n",
      "Now, determine the sentiment for the following review:\n",
      "Review: \"I absolutely loved this movie, it was fantastic!\"\n",
      "Sentiment: Negative\n",
      "\n",
      "Now, determine the sentiment for the following review:\n",
      "\n",
      "Review: \"I absolutely loved this movie, it was fantastic!\"\n",
      "\n",
      "Sentiment: Negative\n",
      "\n",
      "Now\n",
      "\n",
      "=== Few-Shot Output ===\n",
      "What is the sentiment of this review?\n",
      "\n",
      "Example 1:\n",
      "Review: \"The movie was brilliant and truly inspiring.\"\n",
      "Sentiment: Positive\n",
      "\n",
      "Example 2:\n",
      "Review: \"I didn't enjoy the film at all; it was too slow and dull.\"\n",
      "Sentiment: Negative\n",
      "\n",
      "Now, determine the sentiment for the following review:\n",
      "Review: \"I absolutely loved this movie, it was fantastic!\"\n",
      "Sentiment: Positive\n",
      "\n",
      "Example 3:\n",
      "\n",
      "Review:\n"
     ]
    }
   ],
   "source": [
    "zero_shot_output = generate_output(zero_shot_prompt)\n",
    "one_shot_output = generate_output(one_shot_prompt)\n",
    "few_shot_output = generate_output(few_shot_prompt)\n",
    "\n",
    "print(\"=== Zero-Shot Output ===\")\n",
    "print(zero_shot_output)\n",
    "print(\"\\n=== One-Shot Output ===\")\n",
    "print(one_shot_output)\n",
    "print(\"\\n=== Few-Shot Output ===\")\n",
    "print(few_shot_output)\n"
   ]
  },
  {
   "cell_type": "code",
   "execution_count": null,
   "id": "cee412f2-221e-46be-9ab7-3f54bf9fa720",
   "metadata": {},
   "outputs": [],
   "source": []
  },
  {
   "cell_type": "code",
   "execution_count": null,
   "id": "30cd8c6f-5aca-4bfd-bfcb-ec56284338e9",
   "metadata": {},
   "outputs": [],
   "source": []
  }
 ],
 "metadata": {
  "kernelspec": {
   "display_name": "Python 3 (ipykernel)",
   "language": "python",
   "name": "python3"
  },
  "language_info": {
   "codemirror_mode": {
    "name": "ipython",
    "version": 3
   },
   "file_extension": ".py",
   "mimetype": "text/x-python",
   "name": "python",
   "nbconvert_exporter": "python",
   "pygments_lexer": "ipython3",
   "version": "3.9.6"
  }
 },
 "nbformat": 4,
 "nbformat_minor": 5
}
